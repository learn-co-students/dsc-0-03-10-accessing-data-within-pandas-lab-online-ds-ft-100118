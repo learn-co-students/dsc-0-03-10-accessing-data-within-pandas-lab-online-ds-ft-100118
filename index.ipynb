{
 "cells": [
  {
   "cell_type": "markdown",
   "metadata": {},
   "source": [
    "\n",
    "# Accessing Data within Pandas - Lab"
   ]
  },
  {
   "cell_type": "markdown",
   "metadata": {},
   "source": [
    "## Introduction\n",
    "\n",
    "In this lab, we'll look at a data set which contains information World cup matches. Let's use the pandas commands learned in the previous lecture to learn more about our data!"
   ]
  },
  {
   "cell_type": "markdown",
   "metadata": {},
   "source": [
    "## Objectives\n",
    "You will be able to:\n",
    "* Understand and explain some key Pandas methods\n",
    "* Access DataFrame data by using the label\n",
    "* Perform boolean indexing on both Series and DataFrames\n",
    "* Use simple selectors for series\n",
    "* Set new Series and DataFrame inputs"
   ]
  },
  {
   "cell_type": "markdown",
   "metadata": {},
   "source": [
    "## Load the data"
   ]
  },
  {
   "cell_type": "markdown",
   "metadata": {},
   "source": [
    "Load the file `WorldCupMatches.csv` as a dataframe in Pandas"
   ]
  },
  {
   "cell_type": "code",
   "execution_count": 1,
   "metadata": {},
   "outputs": [
    {
     "name": "stderr",
     "output_type": "stream",
     "text": [
      "/opt/conda/lib/python3.6/importlib/_bootstrap.py:219: RuntimeWarning: numpy.dtype size changed, may indicate binary incompatibility. Expected 96, got 88\n",
      "  return f(*args, **kwds)\n",
      "/opt/conda/lib/python3.6/importlib/_bootstrap.py:219: RuntimeWarning: numpy.dtype size changed, may indicate binary incompatibility. Expected 96, got 88\n",
      "  return f(*args, **kwds)\n"
     ]
    }
   ],
   "source": [
    "import pandas as pd"
   ]
  },
  {
   "cell_type": "markdown",
   "metadata": {},
   "source": [
    "## Common methods and attributes"
   ]
  },
  {
   "cell_type": "markdown",
   "metadata": {},
   "source": [
    "Use the correct method to look at the first 7 rows of the data set."
   ]
  },
  {
   "cell_type": "code",
   "execution_count": 3,
   "metadata": {},
   "outputs": [
    {
     "data": {
      "text/html": [
       "<div>\n",
       "<style scoped>\n",
       "    .dataframe tbody tr th:only-of-type {\n",
       "        vertical-align: middle;\n",
       "    }\n",
       "\n",
       "    .dataframe tbody tr th {\n",
       "        vertical-align: top;\n",
       "    }\n",
       "\n",
       "    .dataframe thead th {\n",
       "        text-align: right;\n",
       "    }\n",
       "</style>\n",
       "<table border=\"1\" class=\"dataframe\">\n",
       "  <thead>\n",
       "    <tr style=\"text-align: right;\">\n",
       "      <th></th>\n",
       "      <th>Year,Datetime,Stage,Stadium,City,Home Team Name,Home Team Goals,Away Team Goals,Away Team Name,Win conditions,Attendance,Half-time Home Goals,Half-time Away Goals,Referee,Assistant 1,Assistant 2,RoundID,MatchID,Home Team Initials,Away Team Initials</th>\n",
       "    </tr>\n",
       "  </thead>\n",
       "  <tbody>\n",
       "    <tr>\n",
       "      <th>0</th>\n",
       "      <td>1930,\"13 Jul 1930 - 15:00 \",Group 1,Pocitos,\"M...</td>\n",
       "    </tr>\n",
       "    <tr>\n",
       "      <th>1</th>\n",
       "      <td>1930,\"13 Jul 1930 - 15:00 \",Group 4,Parque Cen...</td>\n",
       "    </tr>\n",
       "    <tr>\n",
       "      <th>2</th>\n",
       "      <td>1930,\"14 Jul 1930 - 12:45 \",Group 2,Parque Cen...</td>\n",
       "    </tr>\n",
       "    <tr>\n",
       "      <th>3</th>\n",
       "      <td>1930,\"14 Jul 1930 - 14:50 \",Group 3,Pocitos,\"M...</td>\n",
       "    </tr>\n",
       "    <tr>\n",
       "      <th>4</th>\n",
       "      <td>1930,\"15 Jul 1930 - 16:00 \",Group 1,Parque Cen...</td>\n",
       "    </tr>\n",
       "    <tr>\n",
       "      <th>5</th>\n",
       "      <td>1930,\"16 Jul 1930 - 14:45 \",Group 1,Parque Cen...</td>\n",
       "    </tr>\n",
       "    <tr>\n",
       "      <th>6</th>\n",
       "      <td>1930,\"17 Jul 1930 - 12:45 \",Group 2,Parque Cen...</td>\n",
       "    </tr>\n",
       "  </tbody>\n",
       "</table>\n",
       "</div>"
      ],
      "text/plain": [
       "  Year,Datetime,Stage,Stadium,City,Home Team Name,Home Team Goals,Away Team Goals,Away Team Name,Win conditions,Attendance,Half-time Home Goals,Half-time Away Goals,Referee,Assistant 1,Assistant 2,RoundID,MatchID,Home Team Initials,Away Team Initials\n",
       "0  1930,\"13 Jul 1930 - 15:00 \",Group 1,Pocitos,\"M...                                                                                                                                                                                                      \n",
       "1  1930,\"13 Jul 1930 - 15:00 \",Group 4,Parque Cen...                                                                                                                                                                                                      \n",
       "2  1930,\"14 Jul 1930 - 12:45 \",Group 2,Parque Cen...                                                                                                                                                                                                      \n",
       "3  1930,\"14 Jul 1930 - 14:50 \",Group 3,Pocitos,\"M...                                                                                                                                                                                                      \n",
       "4  1930,\"15 Jul 1930 - 16:00 \",Group 1,Parque Cen...                                                                                                                                                                                                      \n",
       "5  1930,\"16 Jul 1930 - 14:45 \",Group 1,Parque Cen...                                                                                                                                                                                                      \n",
       "6  1930,\"17 Jul 1930 - 12:45 \",Group 2,Parque Cen...                                                                                                                                                                                                      "
      ]
     },
     "execution_count": 3,
     "metadata": {},
     "output_type": "execute_result"
    }
   ],
   "source": [
    "df = pd.read_csv('WorldCupMatches.csv', delimiter = '\\t')\n",
    "df.head(7)"
   ]
  },
  {
   "cell_type": "markdown",
   "metadata": {},
   "source": [
    "Look at the last 3 rows of the data set."
   ]
  },
  {
   "cell_type": "code",
   "execution_count": 4,
   "metadata": {},
   "outputs": [
    {
     "data": {
      "text/html": [
       "<div>\n",
       "<style scoped>\n",
       "    .dataframe tbody tr th:only-of-type {\n",
       "        vertical-align: middle;\n",
       "    }\n",
       "\n",
       "    .dataframe tbody tr th {\n",
       "        vertical-align: top;\n",
       "    }\n",
       "\n",
       "    .dataframe thead th {\n",
       "        text-align: right;\n",
       "    }\n",
       "</style>\n",
       "<table border=\"1\" class=\"dataframe\">\n",
       "  <thead>\n",
       "    <tr style=\"text-align: right;\">\n",
       "      <th></th>\n",
       "      <th>Year,Datetime,Stage,Stadium,City,Home Team Name,Home Team Goals,Away Team Goals,Away Team Name,Win conditions,Attendance,Half-time Home Goals,Half-time Away Goals,Referee,Assistant 1,Assistant 2,RoundID,MatchID,Home Team Initials,Away Team Initials</th>\n",
       "    </tr>\n",
       "  </thead>\n",
       "  <tbody>\n",
       "    <tr>\n",
       "      <th>4569</th>\n",
       "      <td>,,,,,,,,,,,,,,,,,,,</td>\n",
       "    </tr>\n",
       "    <tr>\n",
       "      <th>4570</th>\n",
       "      <td>,,,,,,,,,,,,,,,,,,,</td>\n",
       "    </tr>\n",
       "    <tr>\n",
       "      <th>4571</th>\n",
       "      <td>,,,,,,,,,,,,,,,,,,,</td>\n",
       "    </tr>\n",
       "  </tbody>\n",
       "</table>\n",
       "</div>"
      ],
      "text/plain": [
       "     Year,Datetime,Stage,Stadium,City,Home Team Name,Home Team Goals,Away Team Goals,Away Team Name,Win conditions,Attendance,Half-time Home Goals,Half-time Away Goals,Referee,Assistant 1,Assistant 2,RoundID,MatchID,Home Team Initials,Away Team Initials\n",
       "4569                                ,,,,,,,,,,,,,,,,,,,                                                                                                                                                                                                      \n",
       "4570                                ,,,,,,,,,,,,,,,,,,,                                                                                                                                                                                                      \n",
       "4571                                ,,,,,,,,,,,,,,,,,,,                                                                                                                                                                                                      "
      ]
     },
     "execution_count": 4,
     "metadata": {},
     "output_type": "execute_result"
    }
   ],
   "source": [
    "df.tail(3)"
   ]
  },
  {
   "cell_type": "markdown",
   "metadata": {},
   "source": [
    "Get a concise summary of your data using `.info()`"
   ]
  },
  {
   "cell_type": "code",
   "execution_count": 5,
   "metadata": {},
   "outputs": [
    {
     "data": {
      "text/plain": [
       "<bound method DataFrame.info of      Year,Datetime,Stage,Stadium,City,Home Team Name,Home Team Goals,Away Team Goals,Away Team Name,Win conditions,Attendance,Half-time Home Goals,Half-time Away Goals,Referee,Assistant 1,Assistant 2,RoundID,MatchID,Home Team Initials,Away Team Initials\n",
       "0     1930,\"13 Jul 1930 - 15:00 \",Group 1,Pocitos,\"M...                                                                                                                                                                                                      \n",
       "1     1930,\"13 Jul 1930 - 15:00 \",Group 4,Parque Cen...                                                                                                                                                                                                      \n",
       "2     1930,\"14 Jul 1930 - 12:45 \",Group 2,Parque Cen...                                                                                                                                                                                                      \n",
       "3     1930,\"14 Jul 1930 - 14:50 \",Group 3,Pocitos,\"M...                                                                                                                                                                                                      \n",
       "4     1930,\"15 Jul 1930 - 16:00 \",Group 1,Parque Cen...                                                                                                                                                                                                      \n",
       "5     1930,\"16 Jul 1930 - 14:45 \",Group 1,Parque Cen...                                                                                                                                                                                                      \n",
       "6     1930,\"17 Jul 1930 - 12:45 \",Group 2,Parque Cen...                                                                                                                                                                                                      \n",
       "7     1930,\"17 Jul 1930 - 14:45 \",Group 4,Parque Cen...                                                                                                                                                                                                      \n",
       "8     1930,\"18 Jul 1930 - 14:30 \",Group 3,Estadio Ce...                                                                                                                                                                                                      \n",
       "9     1930,\"19 Jul 1930 - 12:50 \",Group 1,Estadio Ce...                                                                                                                                                                                                      \n",
       "10    1930,\"19 Jul 1930 - 15:00 \",Group 1,Estadio Ce...                                                                                                                                                                                                      \n",
       "11    1930,\"20 Jul 1930 - 13:00 \",Group 2,Estadio Ce...                                                                                                                                                                                                      \n",
       "12    1930,\"20 Jul 1930 - 15:00 \",Group 4,Estadio Ce...                                                                                                                                                                                                      \n",
       "13    1930,\"21 Jul 1930 - 14:50 \",Group 3,Estadio Ce...                                                                                                                                                                                                      \n",
       "14    1930,\"22 Jul 1930 - 14:45 \",Group 1,Estadio Ce...                                                                                                                                                                                                      \n",
       "15    1930,\"26 Jul 1930 - 14:45 \",Semi-finals,Estadi...                                                                                                                                                                                                      \n",
       "16    1930,\"27 Jul 1930 - 14:45 \",Semi-finals,Estadi...                                                                                                                                                                                                      \n",
       "17    1930,\"30 Jul 1930 - 14:15 \",Final,Estadio Cent...                                                                                                                                                                                                      \n",
       "18    1934,\"27 May 1934 - 16:30 \",Preliminary round,...                                                                                                                                                                                                      \n",
       "19    1934,\"27 May 1934 - 16:30 \",Preliminary round,...                                                                                                                                                                                                      \n",
       "20    1934,\"27 May 1934 - 16:30 \",Preliminary round,...                                                                                                                                                                                                      \n",
       "21    1934,\"27 May 1934 - 16:30 \",Preliminary round,...                                                                                                                                                                                                      \n",
       "22    1934,\"27 May 1934 - 16:30 \",Preliminary round,...                                                                                                                                                                                                      \n",
       "23    1934,\"27 May 1934 - 16:30 \",Preliminary round,...                                                                                                                                                                                                      \n",
       "24    1934,\"27 May 1934 - 16:30 \",Preliminary round,...                                                                                                                                                                                                      \n",
       "25    1934,\"27 May 1934 - 16:30 \",Preliminary round,...                                                                                                                                                                                                      \n",
       "26    1934,\"31 May 1934 - 16:30 \",Quarter-finals,Sta...                                                                                                                                                                                                      \n",
       "27    1934,\"31 May 1934 - 16:30 \",Quarter-finals,San...                                                                                                                                                                                                      \n",
       "28    1934,\"31 May 1934 - 16:30 \",Quarter-finals,Gio...                                                                                                                                                                                                      \n",
       "29    1934,\"31 May 1934 - 16:30 \",Quarter-finals,Lit...                                                                                                                                                                                                      \n",
       "...                                                 ...                                                                                                                                                                                                      \n",
       "4542                                ,,,,,,,,,,,,,,,,,,,                                                                                                                                                                                                      \n",
       "4543                                ,,,,,,,,,,,,,,,,,,,                                                                                                                                                                                                      \n",
       "4544                                ,,,,,,,,,,,,,,,,,,,                                                                                                                                                                                                      \n",
       "4545                                ,,,,,,,,,,,,,,,,,,,                                                                                                                                                                                                      \n",
       "4546                                ,,,,,,,,,,,,,,,,,,,                                                                                                                                                                                                      \n",
       "4547                                ,,,,,,,,,,,,,,,,,,,                                                                                                                                                                                                      \n",
       "4548                                ,,,,,,,,,,,,,,,,,,,                                                                                                                                                                                                      \n",
       "4549                                ,,,,,,,,,,,,,,,,,,,                                                                                                                                                                                                      \n",
       "4550                                ,,,,,,,,,,,,,,,,,,,                                                                                                                                                                                                      \n",
       "4551                                ,,,,,,,,,,,,,,,,,,,                                                                                                                                                                                                      \n",
       "4552                                ,,,,,,,,,,,,,,,,,,,                                                                                                                                                                                                      \n",
       "4553                                ,,,,,,,,,,,,,,,,,,,                                                                                                                                                                                                      \n",
       "4554                                ,,,,,,,,,,,,,,,,,,,                                                                                                                                                                                                      \n",
       "4555                                ,,,,,,,,,,,,,,,,,,,                                                                                                                                                                                                      \n",
       "4556                                ,,,,,,,,,,,,,,,,,,,                                                                                                                                                                                                      \n",
       "4557                                ,,,,,,,,,,,,,,,,,,,                                                                                                                                                                                                      \n",
       "4558                                ,,,,,,,,,,,,,,,,,,,                                                                                                                                                                                                      \n",
       "4559                                ,,,,,,,,,,,,,,,,,,,                                                                                                                                                                                                      \n",
       "4560                                ,,,,,,,,,,,,,,,,,,,                                                                                                                                                                                                      \n",
       "4561                                ,,,,,,,,,,,,,,,,,,,                                                                                                                                                                                                      \n",
       "4562                                ,,,,,,,,,,,,,,,,,,,                                                                                                                                                                                                      \n",
       "4563                                ,,,,,,,,,,,,,,,,,,,                                                                                                                                                                                                      \n",
       "4564                                ,,,,,,,,,,,,,,,,,,,                                                                                                                                                                                                      \n",
       "4565                                ,,,,,,,,,,,,,,,,,,,                                                                                                                                                                                                      \n",
       "4566                                ,,,,,,,,,,,,,,,,,,,                                                                                                                                                                                                      \n",
       "4567                                ,,,,,,,,,,,,,,,,,,,                                                                                                                                                                                                      \n",
       "4568                                ,,,,,,,,,,,,,,,,,,,                                                                                                                                                                                                      \n",
       "4569                                ,,,,,,,,,,,,,,,,,,,                                                                                                                                                                                                      \n",
       "4570                                ,,,,,,,,,,,,,,,,,,,                                                                                                                                                                                                      \n",
       "4571                                ,,,,,,,,,,,,,,,,,,,                                                                                                                                                                                                      \n",
       "\n",
       "[4572 rows x 1 columns]>"
      ]
     },
     "execution_count": 5,
     "metadata": {},
     "output_type": "execute_result"
    }
   ],
   "source": [
    "df.info"
   ]
  },
  {
   "cell_type": "markdown",
   "metadata": {},
   "source": [
    "Obtain a tuple representing the number of rows and number of columns"
   ]
  },
  {
   "cell_type": "code",
   "execution_count": 6,
   "metadata": {},
   "outputs": [
    {
     "data": {
      "text/plain": [
       "(4572, 1)"
      ]
     },
     "execution_count": 6,
     "metadata": {},
     "output_type": "execute_result"
    }
   ],
   "source": [
    "df.shape"
   ]
  },
  {
   "cell_type": "markdown",
   "metadata": {},
   "source": [
    "Use the appropriate attribute to get the column names"
   ]
  },
  {
   "cell_type": "code",
   "execution_count": 8,
   "metadata": {},
   "outputs": [
    {
     "ename": "KeyError",
     "evalue": "\"None of [['Home Team Name', 'Away Team Name']] are in the [columns]\"",
     "output_type": "error",
     "traceback": [
      "\u001b[0;31m\u001b[0m",
      "\u001b[0;31mKeyError\u001b[0mTraceback (most recent call last)",
      "\u001b[0;32m<ipython-input-8-a58c2ecfd51d>\u001b[0m in \u001b[0;36m<module>\u001b[0;34m\u001b[0m\n\u001b[0;32m----> 1\u001b[0;31m \u001b[0mdf\u001b[0m\u001b[0;34m.\u001b[0m\u001b[0mloc\u001b[0m\u001b[0;34m[\u001b[0m\u001b[0;36m5\u001b[0m\u001b[0;34m:\u001b[0m\u001b[0;36m9\u001b[0m\u001b[0;34m,\u001b[0m\u001b[0;34m[\u001b[0m\u001b[0;34m\"Home Team Name\"\u001b[0m\u001b[0;34m,\u001b[0m \u001b[0;34m\"Away Team Name\"\u001b[0m\u001b[0;34m]\u001b[0m\u001b[0;34m]\u001b[0m\u001b[0;34m\u001b[0m\u001b[0m\n\u001b[0m",
      "\u001b[0;32m/opt/conda/lib/python3.6/site-packages/pandas/core/indexing.py\u001b[0m in \u001b[0;36m__getitem__\u001b[0;34m(self, key)\u001b[0m\n\u001b[1;32m   1470\u001b[0m             \u001b[0;32mexcept\u001b[0m \u001b[0;34m(\u001b[0m\u001b[0mKeyError\u001b[0m\u001b[0;34m,\u001b[0m \u001b[0mIndexError\u001b[0m\u001b[0;34m)\u001b[0m\u001b[0;34m:\u001b[0m\u001b[0;34m\u001b[0m\u001b[0m\n\u001b[1;32m   1471\u001b[0m                 \u001b[0;32mpass\u001b[0m\u001b[0;34m\u001b[0m\u001b[0m\n\u001b[0;32m-> 1472\u001b[0;31m             \u001b[0;32mreturn\u001b[0m \u001b[0mself\u001b[0m\u001b[0;34m.\u001b[0m\u001b[0m_getitem_tuple\u001b[0m\u001b[0;34m(\u001b[0m\u001b[0mkey\u001b[0m\u001b[0;34m)\u001b[0m\u001b[0;34m\u001b[0m\u001b[0m\n\u001b[0m\u001b[1;32m   1473\u001b[0m         \u001b[0;32melse\u001b[0m\u001b[0;34m:\u001b[0m\u001b[0;34m\u001b[0m\u001b[0m\n\u001b[1;32m   1474\u001b[0m             \u001b[0;31m# we by definition only have the 0th axis\u001b[0m\u001b[0;34m\u001b[0m\u001b[0;34m\u001b[0m\u001b[0m\n",
      "\u001b[0;32m/opt/conda/lib/python3.6/site-packages/pandas/core/indexing.py\u001b[0m in \u001b[0;36m_getitem_tuple\u001b[0;34m(self, tup)\u001b[0m\n\u001b[1;32m    888\u001b[0m                 \u001b[0;32mcontinue\u001b[0m\u001b[0;34m\u001b[0m\u001b[0m\n\u001b[1;32m    889\u001b[0m \u001b[0;34m\u001b[0m\u001b[0m\n\u001b[0;32m--> 890\u001b[0;31m             \u001b[0mretval\u001b[0m \u001b[0;34m=\u001b[0m \u001b[0mgetattr\u001b[0m\u001b[0;34m(\u001b[0m\u001b[0mretval\u001b[0m\u001b[0;34m,\u001b[0m \u001b[0mself\u001b[0m\u001b[0;34m.\u001b[0m\u001b[0mname\u001b[0m\u001b[0;34m)\u001b[0m\u001b[0;34m.\u001b[0m\u001b[0m_getitem_axis\u001b[0m\u001b[0;34m(\u001b[0m\u001b[0mkey\u001b[0m\u001b[0;34m,\u001b[0m \u001b[0maxis\u001b[0m\u001b[0;34m=\u001b[0m\u001b[0mi\u001b[0m\u001b[0;34m)\u001b[0m\u001b[0;34m\u001b[0m\u001b[0m\n\u001b[0m\u001b[1;32m    891\u001b[0m \u001b[0;34m\u001b[0m\u001b[0m\n\u001b[1;32m    892\u001b[0m         \u001b[0;32mreturn\u001b[0m \u001b[0mretval\u001b[0m\u001b[0;34m\u001b[0m\u001b[0m\n",
      "\u001b[0;32m/opt/conda/lib/python3.6/site-packages/pandas/core/indexing.py\u001b[0m in \u001b[0;36m_getitem_axis\u001b[0;34m(self, key, axis)\u001b[0m\n\u001b[1;32m   1899\u001b[0m                     \u001b[0;32mraise\u001b[0m \u001b[0mValueError\u001b[0m\u001b[0;34m(\u001b[0m\u001b[0;34m'Cannot index with multidimensional key'\u001b[0m\u001b[0;34m)\u001b[0m\u001b[0;34m\u001b[0m\u001b[0m\n\u001b[1;32m   1900\u001b[0m \u001b[0;34m\u001b[0m\u001b[0m\n\u001b[0;32m-> 1901\u001b[0;31m                 \u001b[0;32mreturn\u001b[0m \u001b[0mself\u001b[0m\u001b[0;34m.\u001b[0m\u001b[0m_getitem_iterable\u001b[0m\u001b[0;34m(\u001b[0m\u001b[0mkey\u001b[0m\u001b[0;34m,\u001b[0m \u001b[0maxis\u001b[0m\u001b[0;34m=\u001b[0m\u001b[0maxis\u001b[0m\u001b[0;34m)\u001b[0m\u001b[0;34m\u001b[0m\u001b[0m\n\u001b[0m\u001b[1;32m   1902\u001b[0m \u001b[0;34m\u001b[0m\u001b[0m\n\u001b[1;32m   1903\u001b[0m             \u001b[0;31m# nested tuple slicing\u001b[0m\u001b[0;34m\u001b[0m\u001b[0;34m\u001b[0m\u001b[0m\n",
      "\u001b[0;32m/opt/conda/lib/python3.6/site-packages/pandas/core/indexing.py\u001b[0m in \u001b[0;36m_getitem_iterable\u001b[0;34m(self, key, axis)\u001b[0m\n\u001b[1;32m   1141\u001b[0m             \u001b[0;32mif\u001b[0m \u001b[0mlabels\u001b[0m\u001b[0;34m.\u001b[0m\u001b[0mis_unique\u001b[0m \u001b[0;32mand\u001b[0m \u001b[0mIndex\u001b[0m\u001b[0;34m(\u001b[0m\u001b[0mkeyarr\u001b[0m\u001b[0;34m)\u001b[0m\u001b[0;34m.\u001b[0m\u001b[0mis_unique\u001b[0m\u001b[0;34m:\u001b[0m\u001b[0;34m\u001b[0m\u001b[0m\n\u001b[1;32m   1142\u001b[0m                 \u001b[0mindexer\u001b[0m \u001b[0;34m=\u001b[0m \u001b[0max\u001b[0m\u001b[0;34m.\u001b[0m\u001b[0mget_indexer_for\u001b[0m\u001b[0;34m(\u001b[0m\u001b[0mkey\u001b[0m\u001b[0;34m)\u001b[0m\u001b[0;34m\u001b[0m\u001b[0m\n\u001b[0;32m-> 1143\u001b[0;31m                 \u001b[0mself\u001b[0m\u001b[0;34m.\u001b[0m\u001b[0m_validate_read_indexer\u001b[0m\u001b[0;34m(\u001b[0m\u001b[0mkey\u001b[0m\u001b[0;34m,\u001b[0m \u001b[0mindexer\u001b[0m\u001b[0;34m,\u001b[0m \u001b[0maxis\u001b[0m\u001b[0;34m)\u001b[0m\u001b[0;34m\u001b[0m\u001b[0m\n\u001b[0m\u001b[1;32m   1144\u001b[0m \u001b[0;34m\u001b[0m\u001b[0m\n\u001b[1;32m   1145\u001b[0m                 \u001b[0md\u001b[0m \u001b[0;34m=\u001b[0m \u001b[0;34m{\u001b[0m\u001b[0maxis\u001b[0m\u001b[0;34m:\u001b[0m \u001b[0;34m[\u001b[0m\u001b[0max\u001b[0m\u001b[0;34m.\u001b[0m\u001b[0mreindex\u001b[0m\u001b[0;34m(\u001b[0m\u001b[0mkeyarr\u001b[0m\u001b[0;34m)\u001b[0m\u001b[0;34m[\u001b[0m\u001b[0;36m0\u001b[0m\u001b[0;34m]\u001b[0m\u001b[0;34m,\u001b[0m \u001b[0mindexer\u001b[0m\u001b[0;34m]\u001b[0m\u001b[0;34m}\u001b[0m\u001b[0;34m\u001b[0m\u001b[0m\n",
      "\u001b[0;32m/opt/conda/lib/python3.6/site-packages/pandas/core/indexing.py\u001b[0m in \u001b[0;36m_validate_read_indexer\u001b[0;34m(self, key, indexer, axis)\u001b[0m\n\u001b[1;32m   1204\u001b[0m                 raise KeyError(\n\u001b[1;32m   1205\u001b[0m                     u\"None of [{key}] are in the [{axis}]\".format(\n\u001b[0;32m-> 1206\u001b[0;31m                         key=key, axis=self.obj._get_axis_name(axis)))\n\u001b[0m\u001b[1;32m   1207\u001b[0m \u001b[0;34m\u001b[0m\u001b[0m\n\u001b[1;32m   1208\u001b[0m             \u001b[0;31m# we skip the warning on Categorical/Interval\u001b[0m\u001b[0;34m\u001b[0m\u001b[0;34m\u001b[0m\u001b[0m\n",
      "\u001b[0;31mKeyError\u001b[0m: \"None of [['Home Team Name', 'Away Team Name']] are in the [columns]\""
     ]
    }
   ],
   "source": [
    "df.loc[5:9,[\"Home Team Name\", \"Away Team Name\"]]\n"
   ]
  },
  {
   "cell_type": "markdown",
   "metadata": {},
   "source": [
    "## Selecting dataframe information"
   ]
  },
  {
   "cell_type": "markdown",
   "metadata": {},
   "source": [
    "When looking at the dataframe's `.head()`, you might have noticed that the games are structured chronologically in the dataframe.\n",
    "\n",
    "Use the right selection method to print all the information from the 3rd to the 5th game."
   ]
  },
  {
   "cell_type": "code",
   "execution_count": null,
   "metadata": {},
   "outputs": [],
   "source": []
  },
  {
   "cell_type": "markdown",
   "metadata": {},
   "source": [
    "Now, print all the info from game 5-8, but we're only interested to print out the \"Home Team Name\" and the \"Away Team Name\", "
   ]
  },
  {
   "cell_type": "code",
   "execution_count": null,
   "metadata": {},
   "outputs": [],
   "source": []
  },
  {
   "cell_type": "markdown",
   "metadata": {},
   "source": [
    "Next, we'd like the information on all the games played in Group 3 for the 1950 World Cup."
   ]
  },
  {
   "cell_type": "code",
   "execution_count": null,
   "metadata": {},
   "outputs": [],
   "source": []
  },
  {
   "cell_type": "markdown",
   "metadata": {},
   "source": [
    "Let's repeat the command above, but now we only want to print out the attendance colum for the Group 3 games"
   ]
  },
  {
   "cell_type": "markdown",
   "metadata": {},
   "source": [
    "You can combine conditions like this:\n",
    "\n",
    "`df[(condition1) | (condition2)]`  -> Returns rows where either condition is true\n",
    "\n",
    "`df[(condition1) & (condition2)]`  -> Returns rows where both conditions are true"
   ]
  },
  {
   "cell_type": "code",
   "execution_count": null,
   "metadata": {},
   "outputs": [],
   "source": []
  },
  {
   "cell_type": "markdown",
   "metadata": {},
   "source": [
    "Throughout the entire history of the world cup, How many Home games were played by the Netherlands?"
   ]
  },
  {
   "cell_type": "code",
   "execution_count": null,
   "metadata": {},
   "outputs": [],
   "source": []
  },
  {
   "cell_type": "markdown",
   "metadata": {},
   "source": [
    "How many games were playes by the Netherlands in total?"
   ]
  },
  {
   "cell_type": "code",
   "execution_count": null,
   "metadata": {},
   "outputs": [],
   "source": []
  },
  {
   "cell_type": "markdown",
   "metadata": {},
   "source": [
    "Next, let's try and figure out how many games the USA played in the 2014 world cup. "
   ]
  },
  {
   "cell_type": "code",
   "execution_count": null,
   "metadata": {},
   "outputs": [],
   "source": []
  },
  {
   "cell_type": "markdown",
   "metadata": {},
   "source": [
    "Now, let's try to find out how many countries participated in the 1986 world cup."
   ]
  },
  {
   "cell_type": "markdown",
   "metadata": {},
   "source": [
    "Hint 1: as a first step, create a new data set that only contain games in that year.\n",
    "\n",
    "Hint 2: You can use `.unique()` to make sure you don't end up with duplicate country names."
   ]
  },
  {
   "cell_type": "code",
   "execution_count": null,
   "metadata": {
    "scrolled": true
   },
   "outputs": [],
   "source": []
  },
  {
   "cell_type": "markdown",
   "metadata": {},
   "source": [
    "In the world cup history, how matches had more than 5 goals in total?"
   ]
  },
  {
   "cell_type": "code",
   "execution_count": null,
   "metadata": {},
   "outputs": [],
   "source": []
  },
  {
   "cell_type": "markdown",
   "metadata": {},
   "source": [
    "## Changing values and creating new columns"
   ]
  },
  {
   "cell_type": "markdown",
   "metadata": {},
   "source": [
    "With the information you currently have in your `df`, create a new column \"Half-time Goals\"."
   ]
  },
  {
   "cell_type": "code",
   "execution_count": null,
   "metadata": {},
   "outputs": [],
   "source": []
  },
  {
   "cell_type": "markdown",
   "metadata": {},
   "source": [
    "Run the code below. You'll notice that for Korea, there are records for both North-Korea (Korea DPR) and South-Korea (Korea Republic). "
   ]
  },
  {
   "cell_type": "code",
   "execution_count": null,
   "metadata": {},
   "outputs": [],
   "source": [
    "df.loc[df[\"Home Team Name\"].str.contains('Korea'), \"Home Team Name\" ]"
   ]
  },
  {
   "cell_type": "markdown",
   "metadata": {},
   "source": [
    "Imagine that for some reason, we simply want Korea listed as one entry, so we want to replace every \"Home Team Name\" and \"Away Team Name\" entry that contains \"Korea\" to simply \"Korea\". In the same way, we want to change the columns \"Home Team Initials\" and \"Away Team Initials\" to NSK (North & South Korea) instead of \"KOR\" and \"PRK\". "
   ]
  },
  {
   "cell_type": "code",
   "execution_count": null,
   "metadata": {},
   "outputs": [],
   "source": []
  },
  {
   "cell_type": "markdown",
   "metadata": {},
   "source": [
    "Make sure to verify your answer!"
   ]
  },
  {
   "cell_type": "code",
   "execution_count": null,
   "metadata": {},
   "outputs": [],
   "source": []
  }
 ],
 "metadata": {
  "kernelspec": {
   "display_name": "Python 3",
   "language": "python",
   "name": "python3"
  },
  "language_info": {
   "codemirror_mode": {
    "name": "ipython",
    "version": 3
   },
   "file_extension": ".py",
   "mimetype": "text/x-python",
   "name": "python",
   "nbconvert_exporter": "python",
   "pygments_lexer": "ipython3",
   "version": "3.6.4"
  }
 },
 "nbformat": 4,
 "nbformat_minor": 2
}
